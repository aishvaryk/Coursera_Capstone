{
 "cells": [
  {
   "cell_type": "code",
   "execution_count": 18,
   "metadata": {},
   "outputs": [],
   "source": [
    "import pandas as pd\n",
    "import numpy as np\n",
    "import requests\n",
    "\n",
    "from bs4 import BeautifulSoup"
   ]
  },
  {
   "cell_type": "code",
   "execution_count": 19,
   "metadata": {},
   "outputs": [],
   "source": [
    "source = requests.get('https://en.wikipedia.org/wiki/List_of_postal_codes_of_Canada:_M').text\n",
    "soup = BeautifulSoup(source, 'html.parser')"
   ]
  },
  {
   "cell_type": "code",
   "execution_count": 20,
   "metadata": {},
   "outputs": [
    {
     "name": "stdout",
     "output_type": "stream",
     "text": [
      "['M3A', 'M4A', 'M5A', 'M6A', 'M7A', 'M9A', 'M1B', 'M3B', 'M4B', 'M5B', 'M6B', 'M9B', 'M1C', 'M3C', 'M4C', 'M5C', 'M6C', 'M9C', 'M1E', 'M4E', 'M5E', 'M6E', 'M1G', 'M4G', 'M5G', 'M6G', 'M1H', 'M2H', 'M3H', 'M4H', 'M5H', 'M6H', 'M1J', 'M2J', 'M3J', 'M4J', 'M5J', 'M6J', 'M1K', 'M2K', 'M3K', 'M4K', 'M5K', 'M6K', 'M1L', 'M2L', 'M3L', 'M4L', 'M5L', 'M6L', 'M9L', 'M1M', 'M2M', 'M3M', 'M4M', 'M5M', 'M6M', 'M9M', 'M1N', 'M2N', 'M3N', 'M4N', 'M5N', 'M6N', 'M9N', 'M1P', 'M2P', 'M4P', 'M5P', 'M6P', 'M9P', 'M1R', 'M2R', 'M4R', 'M5R', 'M6R', 'M7R', 'M9R', 'M1S', 'M4S', 'M5S', 'M6S', 'M1T', 'M4T', 'M5T', 'M1V', 'M4V', 'M5V', 'M8V', 'M9V', 'M1W', 'M4W', 'M5W', 'M8W', 'M9W', 'M1X', 'M4X', 'M5X', 'M8X', 'M4Y', 'M7Y', 'M8Y', 'M8Z']\n",
      "['North York', 'North York', 'Downtown Toronto', 'North York', 'Downtown Toronto', 'Etobicoke', 'Scarborough', 'North York', 'East York', 'Downtown Toronto', 'North York', 'Etobicoke', 'Scarborough', 'North York', 'East York', 'Downtown Toronto', 'York', 'Etobicoke', 'Scarborough', 'East Toronto', 'Downtown Toronto', 'York', 'Scarborough', 'East York', 'Downtown Toronto', 'Downtown Toronto', 'Scarborough', 'North York', 'North York', 'East York', 'Downtown Toronto', 'West Toronto', 'Scarborough', 'North York', 'North York', 'East York', 'Downtown Toronto', 'West Toronto', 'Scarborough', 'North York', 'North York', 'East Toronto', 'Downtown Toronto', 'West Toronto', 'Scarborough', 'North York', 'North York', 'East Toronto', 'Downtown Toronto', 'North York', 'North York', 'Scarborough', 'North York', 'North York', 'East Toronto', 'North York', 'York', 'North York', 'Scarborough', 'North York', 'North York', 'Central Toronto', 'Central Toronto', 'York', 'York', 'Scarborough', 'North York', 'Central Toronto', 'Central Toronto', 'West Toronto', 'Etobicoke', 'Scarborough', 'North York', 'Central Toronto', 'Central Toronto', 'West Toronto', 'Mississauga', 'Etobicoke', 'Scarborough', 'Central Toronto', 'Downtown Toronto', 'West Toronto', 'Scarborough', 'Central Toronto', 'Downtown Toronto', 'Scarborough', 'Central Toronto', 'Downtown Toronto', 'Etobicoke', 'Etobicoke', 'Scarborough', 'Downtown Toronto', 'Downtown Toronto', 'Etobicoke', 'Etobicoke', 'Scarborough', 'Downtown Toronto', 'Downtown Toronto', 'Etobicoke', 'Downtown Toronto', 'East Toronto', 'Etobicoke', 'Etobicoke']\n",
      "['Parkwoods', 'Victoria Village', 'Regent Park , Harbourfront', 'Lawrence Manor , Lawrence Heights', \"Queen's Park , Ontario Provincial Government\", 'Islington Avenue', 'Malvern , Rouge', 'Don Mills', 'Parkview Hill , Woodbine Gardens', 'Garden District, Ryerson', 'Glencairn', 'West Deane Park , Princess Gardens , Martin Grove , Islington , Cloverdale', 'Rouge Hill , Port Union , Highland Creek', 'Don Mills', 'Woodbine Heights', 'St. James Town', 'Humewood-Cedarvale', 'Eringate , Bloordale Gardens , Old Burnhamthorpe , Markland Wood', 'Guildwood , Morningside , West Hill', 'The Beaches', 'Berczy Park', 'Caledonia-Fairbanks', 'Woburn', 'Leaside', 'Central Bay Street', 'Christie', 'Cedarbrae', 'Hillcrest Village', 'Bathurst Manor , Wilson Heights , Downsview North', 'Thorncliffe Park', 'Richmond , Adelaide , King', 'Dufferin , Dovercourt Village', 'Scarborough Village', 'Fairview , Henry Farm , Oriole', 'Northwood Park , York University', 'East Toronto', 'Harbourfront East , Union Station , Toronto Islands', 'Little Portugal , Trinity', 'Kennedy Park , Ionview , East Birchmount Park', 'Bayview Village', 'Downsview', 'The Danforth West , Riverdale', 'Toronto Dominion Centre , Design Exchange', 'Brockton , Parkdale Village , Exhibition Place', 'Golden Mile , Clairlea , Oakridge', 'York Mills , Silver Hills', 'Downsview', 'India Bazaar , The Beaches West', 'Commerce Court , Victoria Hotel', 'North Park , Maple Leaf Park , Upwood Park', 'Humber Summit', 'Cliffside , Cliffcrest , Scarborough Village West', 'Willowdale , Newtonbrook', 'Downsview', 'Studio District', 'Bedford Park , Lawrence Manor East', 'Del Ray , Mount Dennis , Keelsdale and Silverthorn', 'Humberlea , Emery', 'Birch Cliff , Cliffside West', 'Willowdale', 'Downsview', 'Lawrence Park', 'Roselawn', 'Runnymede , The Junction North', 'Weston', 'Dorset Park , Wexford Heights , Scarborough Town Centre', 'York Mills West', 'Davisville North', 'Forest Hill North & West', 'High Park , The Junction South', 'Westmount', 'Wexford , Maryvale', 'Willowdale', 'North Toronto West', 'The Annex , North Midtown , Yorkville', 'Parkdale , Roncesvalles', 'Canada Post Gateway Processing Centre', 'Kingsview Village , St. Phillips , Martin Grove Gardens , Richview Gardens', 'Agincourt', 'Davisville', 'University of Toronto , Harbord', 'Runnymede , Swansea', \"Clarks Corners , Tam O'Shanter , Sullivan\", 'Moore Park , Summerhill East', 'Kensington Market , Chinatown , Grange Park', \"Milliken , Agincourt North , Steeles East , L'Amoreaux East\", 'Summerhill West , Rathnelly , South Hill , Forest Hill SE , Deer Park', 'CN Tower , King and Spadina , Railway Lands , Harbourfront West , Bathurst\\n Quay , South Niagara , Island airport\\n', 'New Toronto , Mimico South , Humber Bay Shores', 'South Steeles , Silverstone , Humbergate , Jamestown , Mount Olive , Beaumond Heights , Thistletown , Albion Gardens', \"Steeles West , L'Amoreaux West\", 'Rosedale', 'Stn A PO Boxes', 'Alderwood , Long Branch', 'Northwest', 'Upper Rouge', 'St. James Town , Cabbagetown', 'First Canadian Place , Underground city', 'The Kingsway , Montgomery Road  , Old Mill North', 'Church and Wellesley', 'Business reply mail Processing CentrE', \"Old Mill South , King's Mill Park , Sunnylea , Humber Bay , Mimico NE , The Queensway East , Royal York South East , Kingsway Park South East\", 'Mimico NW , The Queensway West , South of Bloor , Kingsway Park South West , Royal York South West']\n"
     ]
    }
   ],
   "source": [
    "table=soup.find(\"table\",{\"class\":\"wikitable\"})\n",
    "allrows=table.find_all('tr')\n",
    "postalcode=[]\n",
    "borough=[]\n",
    "neighborhood=[]\n",
    "for row in allrows[1:]:\n",
    "    elements=row.find_all('td')\n",
    "    if elements[1].text!=\"Not assigned\\n\": #selection of only assigned\n",
    "        postalcode.append(elements[0].text[:3])\n",
    "        borough.append(elements[1].text[:-1])\n",
    "        neighborhoodelements=(elements[2].text[:-1].split(\"/\"))\n",
    "        stringformat=\",\".join(neighborhoodelements)\n",
    "        neighborhood.append(stringformat)\n",
    "        \n",
    "print(postalcode)\n",
    "print(borough)\n",
    "print(neighborhood)\n"
   ]
  },
  {
   "cell_type": "code",
   "execution_count": 21,
   "metadata": {},
   "outputs": [
    {
     "data": {
      "text/html": [
       "<div>\n",
       "<style scoped>\n",
       "    .dataframe tbody tr th:only-of-type {\n",
       "        vertical-align: middle;\n",
       "    }\n",
       "\n",
       "    .dataframe tbody tr th {\n",
       "        vertical-align: top;\n",
       "    }\n",
       "\n",
       "    .dataframe thead th {\n",
       "        text-align: right;\n",
       "    }\n",
       "</style>\n",
       "<table border=\"1\" class=\"dataframe\">\n",
       "  <thead>\n",
       "    <tr style=\"text-align: right;\">\n",
       "      <th></th>\n",
       "      <th>PostalCode</th>\n",
       "      <th>Borough</th>\n",
       "      <th>Neighborhood</th>\n",
       "    </tr>\n",
       "  </thead>\n",
       "  <tbody>\n",
       "    <tr>\n",
       "      <td>0</td>\n",
       "      <td>M3A</td>\n",
       "      <td>North York</td>\n",
       "      <td>Parkwoods</td>\n",
       "    </tr>\n",
       "    <tr>\n",
       "      <td>1</td>\n",
       "      <td>M4A</td>\n",
       "      <td>North York</td>\n",
       "      <td>Victoria Village</td>\n",
       "    </tr>\n",
       "    <tr>\n",
       "      <td>2</td>\n",
       "      <td>M5A</td>\n",
       "      <td>Downtown Toronto</td>\n",
       "      <td>Regent Park , Harbourfront</td>\n",
       "    </tr>\n",
       "    <tr>\n",
       "      <td>3</td>\n",
       "      <td>M6A</td>\n",
       "      <td>North York</td>\n",
       "      <td>Lawrence Manor , Lawrence Heights</td>\n",
       "    </tr>\n",
       "    <tr>\n",
       "      <td>4</td>\n",
       "      <td>M7A</td>\n",
       "      <td>Downtown Toronto</td>\n",
       "      <td>Queen's Park , Ontario Provincial Government</td>\n",
       "    </tr>\n",
       "  </tbody>\n",
       "</table>\n",
       "</div>"
      ],
      "text/plain": [
       "  PostalCode           Borough                                  Neighborhood\n",
       "0        M3A        North York                                     Parkwoods\n",
       "1        M4A        North York                              Victoria Village\n",
       "2        M5A  Downtown Toronto                    Regent Park , Harbourfront\n",
       "3        M6A        North York             Lawrence Manor , Lawrence Heights\n",
       "4        M7A  Downtown Toronto  Queen's Park , Ontario Provincial Government"
      ]
     },
     "execution_count": 21,
     "metadata": {},
     "output_type": "execute_result"
    }
   ],
   "source": [
    "toronto_df = pd.DataFrame({\"PostalCode\": postalcode,\n",
    "                           \"Borough\": borough,\n",
    "                           \"Neighborhood\": neighborhood})\n",
    "\n",
    "toronto_df.head()"
   ]
  },
  {
   "cell_type": "code",
   "execution_count": 22,
   "metadata": {},
   "outputs": [
    {
     "data": {
      "text/plain": [
       "(103, 3)"
      ]
     },
     "execution_count": 22,
     "metadata": {},
     "output_type": "execute_result"
    }
   ],
   "source": [
    "toronto_df.shape"
   ]
  },
  {
   "cell_type": "code",
   "execution_count": 23,
   "metadata": {},
   "outputs": [],
   "source": [
    "toronto_df.to_csv('toronoto dataframe.csv')"
   ]
  },
  {
   "cell_type": "code",
   "execution_count": 24,
   "metadata": {},
   "outputs": [
    {
     "data": {
      "text/html": [
       "<div>\n",
       "<style scoped>\n",
       "    .dataframe tbody tr th:only-of-type {\n",
       "        vertical-align: middle;\n",
       "    }\n",
       "\n",
       "    .dataframe tbody tr th {\n",
       "        vertical-align: top;\n",
       "    }\n",
       "\n",
       "    .dataframe thead th {\n",
       "        text-align: right;\n",
       "    }\n",
       "</style>\n",
       "<table border=\"1\" class=\"dataframe\">\n",
       "  <thead>\n",
       "    <tr style=\"text-align: right;\">\n",
       "      <th></th>\n",
       "      <th>Postal Code</th>\n",
       "      <th>Latitude</th>\n",
       "      <th>Longitude</th>\n",
       "    </tr>\n",
       "  </thead>\n",
       "  <tbody>\n",
       "    <tr>\n",
       "      <td>0</td>\n",
       "      <td>M1B</td>\n",
       "      <td>43.806686</td>\n",
       "      <td>-79.194353</td>\n",
       "    </tr>\n",
       "    <tr>\n",
       "      <td>1</td>\n",
       "      <td>M1C</td>\n",
       "      <td>43.784535</td>\n",
       "      <td>-79.160497</td>\n",
       "    </tr>\n",
       "    <tr>\n",
       "      <td>2</td>\n",
       "      <td>M1E</td>\n",
       "      <td>43.763573</td>\n",
       "      <td>-79.188711</td>\n",
       "    </tr>\n",
       "    <tr>\n",
       "      <td>3</td>\n",
       "      <td>M1G</td>\n",
       "      <td>43.770992</td>\n",
       "      <td>-79.216917</td>\n",
       "    </tr>\n",
       "    <tr>\n",
       "      <td>4</td>\n",
       "      <td>M1H</td>\n",
       "      <td>43.773136</td>\n",
       "      <td>-79.239476</td>\n",
       "    </tr>\n",
       "  </tbody>\n",
       "</table>\n",
       "</div>"
      ],
      "text/plain": [
       "  Postal Code   Latitude  Longitude\n",
       "0         M1B  43.806686 -79.194353\n",
       "1         M1C  43.784535 -79.160497\n",
       "2         M1E  43.763573 -79.188711\n",
       "3         M1G  43.770992 -79.216917\n",
       "4         M1H  43.773136 -79.239476"
      ]
     },
     "execution_count": 24,
     "metadata": {},
     "output_type": "execute_result"
    }
   ],
   "source": [
    "coordinates = pd.read_csv(\"Geospatial_Coordinates.csv\")\n",
    "coordinates.head()"
   ]
  },
  {
   "cell_type": "code",
   "execution_count": 26,
   "metadata": {},
   "outputs": [
    {
     "data": {
      "text/html": [
       "<div>\n",
       "<style scoped>\n",
       "    .dataframe tbody tr th:only-of-type {\n",
       "        vertical-align: middle;\n",
       "    }\n",
       "\n",
       "    .dataframe tbody tr th {\n",
       "        vertical-align: top;\n",
       "    }\n",
       "\n",
       "    .dataframe thead th {\n",
       "        text-align: right;\n",
       "    }\n",
       "</style>\n",
       "<table border=\"1\" class=\"dataframe\">\n",
       "  <thead>\n",
       "    <tr style=\"text-align: right;\">\n",
       "      <th></th>\n",
       "      <th>PostalCode</th>\n",
       "      <th>Borough</th>\n",
       "      <th>Neighborhood</th>\n",
       "      <th>Latitude</th>\n",
       "      <th>Longitude</th>\n",
       "    </tr>\n",
       "  </thead>\n",
       "  <tbody>\n",
       "    <tr>\n",
       "      <td>0</td>\n",
       "      <td>M3A</td>\n",
       "      <td>North York</td>\n",
       "      <td>Parkwoods</td>\n",
       "      <td>43.806686</td>\n",
       "      <td>-79.194353</td>\n",
       "    </tr>\n",
       "    <tr>\n",
       "      <td>1</td>\n",
       "      <td>M4A</td>\n",
       "      <td>North York</td>\n",
       "      <td>Victoria Village</td>\n",
       "      <td>43.784535</td>\n",
       "      <td>-79.160497</td>\n",
       "    </tr>\n",
       "    <tr>\n",
       "      <td>2</td>\n",
       "      <td>M5A</td>\n",
       "      <td>Downtown Toronto</td>\n",
       "      <td>Regent Park , Harbourfront</td>\n",
       "      <td>43.763573</td>\n",
       "      <td>-79.188711</td>\n",
       "    </tr>\n",
       "    <tr>\n",
       "      <td>3</td>\n",
       "      <td>M6A</td>\n",
       "      <td>North York</td>\n",
       "      <td>Lawrence Manor , Lawrence Heights</td>\n",
       "      <td>43.770992</td>\n",
       "      <td>-79.216917</td>\n",
       "    </tr>\n",
       "    <tr>\n",
       "      <td>4</td>\n",
       "      <td>M7A</td>\n",
       "      <td>Downtown Toronto</td>\n",
       "      <td>Queen's Park , Ontario Provincial Government</td>\n",
       "      <td>43.773136</td>\n",
       "      <td>-79.239476</td>\n",
       "    </tr>\n",
       "    <tr>\n",
       "      <td>...</td>\n",
       "      <td>...</td>\n",
       "      <td>...</td>\n",
       "      <td>...</td>\n",
       "      <td>...</td>\n",
       "      <td>...</td>\n",
       "    </tr>\n",
       "    <tr>\n",
       "      <td>98</td>\n",
       "      <td>M8X</td>\n",
       "      <td>Etobicoke</td>\n",
       "      <td>The Kingsway , Montgomery Road  , Old Mill North</td>\n",
       "      <td>43.706876</td>\n",
       "      <td>-79.518188</td>\n",
       "    </tr>\n",
       "    <tr>\n",
       "      <td>99</td>\n",
       "      <td>M4Y</td>\n",
       "      <td>Downtown Toronto</td>\n",
       "      <td>Church and Wellesley</td>\n",
       "      <td>43.696319</td>\n",
       "      <td>-79.532242</td>\n",
       "    </tr>\n",
       "    <tr>\n",
       "      <td>100</td>\n",
       "      <td>M7Y</td>\n",
       "      <td>East Toronto</td>\n",
       "      <td>Business reply mail Processing CentrE</td>\n",
       "      <td>43.688905</td>\n",
       "      <td>-79.554724</td>\n",
       "    </tr>\n",
       "    <tr>\n",
       "      <td>101</td>\n",
       "      <td>M8Y</td>\n",
       "      <td>Etobicoke</td>\n",
       "      <td>Old Mill South , King's Mill Park , Sunnylea ,...</td>\n",
       "      <td>43.739416</td>\n",
       "      <td>-79.588437</td>\n",
       "    </tr>\n",
       "    <tr>\n",
       "      <td>102</td>\n",
       "      <td>M8Z</td>\n",
       "      <td>Etobicoke</td>\n",
       "      <td>Mimico NW , The Queensway West , South of Bloo...</td>\n",
       "      <td>43.706748</td>\n",
       "      <td>-79.594054</td>\n",
       "    </tr>\n",
       "  </tbody>\n",
       "</table>\n",
       "<p>103 rows × 5 columns</p>\n",
       "</div>"
      ],
      "text/plain": [
       "    PostalCode           Borough  \\\n",
       "0          M3A        North York   \n",
       "1          M4A        North York   \n",
       "2          M5A  Downtown Toronto   \n",
       "3          M6A        North York   \n",
       "4          M7A  Downtown Toronto   \n",
       "..         ...               ...   \n",
       "98         M8X         Etobicoke   \n",
       "99         M4Y  Downtown Toronto   \n",
       "100        M7Y      East Toronto   \n",
       "101        M8Y         Etobicoke   \n",
       "102        M8Z         Etobicoke   \n",
       "\n",
       "                                          Neighborhood   Latitude  Longitude  \n",
       "0                                            Parkwoods  43.806686 -79.194353  \n",
       "1                                     Victoria Village  43.784535 -79.160497  \n",
       "2                           Regent Park , Harbourfront  43.763573 -79.188711  \n",
       "3                    Lawrence Manor , Lawrence Heights  43.770992 -79.216917  \n",
       "4         Queen's Park , Ontario Provincial Government  43.773136 -79.239476  \n",
       "..                                                 ...        ...        ...  \n",
       "98    The Kingsway , Montgomery Road  , Old Mill North  43.706876 -79.518188  \n",
       "99                                Church and Wellesley  43.696319 -79.532242  \n",
       "100              Business reply mail Processing CentrE  43.688905 -79.554724  \n",
       "101  Old Mill South , King's Mill Park , Sunnylea ,...  43.739416 -79.588437  \n",
       "102  Mimico NW , The Queensway West , South of Bloo...  43.706748 -79.594054  \n",
       "\n",
       "[103 rows x 5 columns]"
      ]
     },
     "execution_count": 26,
     "metadata": {},
     "output_type": "execute_result"
    }
   ],
   "source": [
    "# toronto_df_new = toronto_df_grouped.merge(coordinates, on=\"PostalCode\", how=\"left\")\n",
    "# toronto_df_new.head()\n",
    "final_df = toronto_df.sort_values(by='PostalCode', ascending=True)\n",
    "final_df1 = coordinates.sort_values(by='Postal Code', ascending=True)\n",
    "result = pd.concat([final_df, final_df1], axis=1, sort=True)\n",
    "result.drop(result.columns[[3]], axis = 1, inplace = True) \n",
    "result\n",
    "# for row in coordinates:\n",
    "#         #print(', '.join(row))\n",
    "#         toronto_df.loc[toronto_df['Postal Code'] == row[0], 'Latitude'] =(row[1])        \n",
    "#         toronto_df.loc[toronto_df['Postal Code'] == row[0], 'Longitude'] = (row[2])"
   ]
  },
  {
   "cell_type": "code",
   "execution_count": 27,
   "metadata": {},
   "outputs": [
    {
     "name": "stdout",
     "output_type": "stream",
     "text": [
      "(39, 5)\n"
     ]
    },
    {
     "data": {
      "text/html": [
       "<div>\n",
       "<style scoped>\n",
       "    .dataframe tbody tr th:only-of-type {\n",
       "        vertical-align: middle;\n",
       "    }\n",
       "\n",
       "    .dataframe tbody tr th {\n",
       "        vertical-align: top;\n",
       "    }\n",
       "\n",
       "    .dataframe thead th {\n",
       "        text-align: right;\n",
       "    }\n",
       "</style>\n",
       "<table border=\"1\" class=\"dataframe\">\n",
       "  <thead>\n",
       "    <tr style=\"text-align: right;\">\n",
       "      <th></th>\n",
       "      <th>PostalCode</th>\n",
       "      <th>Borough</th>\n",
       "      <th>Neighborhood</th>\n",
       "      <th>Latitude</th>\n",
       "      <th>Longitude</th>\n",
       "    </tr>\n",
       "  </thead>\n",
       "  <tbody>\n",
       "    <tr>\n",
       "      <td>0</td>\n",
       "      <td>M5A</td>\n",
       "      <td>Downtown Toronto</td>\n",
       "      <td>Regent Park , Harbourfront</td>\n",
       "      <td>43.763573</td>\n",
       "      <td>-79.188711</td>\n",
       "    </tr>\n",
       "    <tr>\n",
       "      <td>1</td>\n",
       "      <td>M7A</td>\n",
       "      <td>Downtown Toronto</td>\n",
       "      <td>Queen's Park , Ontario Provincial Government</td>\n",
       "      <td>43.773136</td>\n",
       "      <td>-79.239476</td>\n",
       "    </tr>\n",
       "    <tr>\n",
       "      <td>2</td>\n",
       "      <td>M5B</td>\n",
       "      <td>Downtown Toronto</td>\n",
       "      <td>Garden District, Ryerson</td>\n",
       "      <td>43.692657</td>\n",
       "      <td>-79.264848</td>\n",
       "    </tr>\n",
       "    <tr>\n",
       "      <td>3</td>\n",
       "      <td>M5C</td>\n",
       "      <td>Downtown Toronto</td>\n",
       "      <td>St. James Town</td>\n",
       "      <td>43.799525</td>\n",
       "      <td>-79.318389</td>\n",
       "    </tr>\n",
       "    <tr>\n",
       "      <td>4</td>\n",
       "      <td>M4E</td>\n",
       "      <td>East Toronto</td>\n",
       "      <td>The Beaches</td>\n",
       "      <td>43.786947</td>\n",
       "      <td>-79.385975</td>\n",
       "    </tr>\n",
       "  </tbody>\n",
       "</table>\n",
       "</div>"
      ],
      "text/plain": [
       "  PostalCode           Borough                                  Neighborhood  \\\n",
       "0        M5A  Downtown Toronto                    Regent Park , Harbourfront   \n",
       "1        M7A  Downtown Toronto  Queen's Park , Ontario Provincial Government   \n",
       "2        M5B  Downtown Toronto                      Garden District, Ryerson   \n",
       "3        M5C  Downtown Toronto                                St. James Town   \n",
       "4        M4E      East Toronto                                   The Beaches   \n",
       "\n",
       "    Latitude  Longitude  \n",
       "0  43.763573 -79.188711  \n",
       "1  43.773136 -79.239476  \n",
       "2  43.692657 -79.264848  \n",
       "3  43.799525 -79.318389  \n",
       "4  43.786947 -79.385975  "
      ]
     },
     "execution_count": 27,
     "metadata": {},
     "output_type": "execute_result"
    }
   ],
   "source": [
    "\n",
    "toronto_df = result[result['Borough'].str.contains('Toronto')].reset_index(drop=True)\n",
    "print(toronto_df.shape)\n",
    "toronto_df.head()"
   ]
  },
  {
   "cell_type": "code",
   "execution_count": 29,
   "metadata": {},
   "outputs": [],
   "source": [
    "from sklearn.cluster import KMeans\n",
    "from geopy.geocoders import Nominatim\n",
    "import json\n",
    "from pandas.io.json import json_normalize\n",
    "import matplotlib.cm as cm\n",
    "import matplotlib.colors as colors"
   ]
  },
  {
   "cell_type": "code",
   "execution_count": 30,
   "metadata": {},
   "outputs": [
    {
     "name": "stderr",
     "output_type": "stream",
     "text": [
      "C:\\Users\\AISH\\AppData\\Roaming\\Python\\Python37\\site-packages\\ipykernel_launcher.py:2: DeprecationWarning: Using Nominatim with the default \"geopy/1.21.0\" `user_agent` is strongly discouraged, as it violates Nominatim's ToS https://operations.osmfoundation.org/policies/nominatim/ and may possibly cause 403 and 429 HTTP errors. Please specify a custom `user_agent` with `Nominatim(user_agent=\"my-application\")` or by overriding the default `user_agent`: `geopy.geocoders.options.default_user_agent = \"my-application\"`. In geopy 2.0 this will become an exception.\n",
      "  \n"
     ]
    },
    {
     "name": "stdout",
     "output_type": "stream",
     "text": [
      "The geograpical coordinate of Toronto is 43.6534817, -79.3839347.\n"
     ]
    }
   ],
   "source": [
    "address = 'Toronto'\n",
    "geolocator = Nominatim()\n",
    "location = geolocator.geocode(address)\n",
    "latitude = location.latitude\n",
    "longitude = location.longitude\n",
    "print('The geograpical coordinate of {} is {}, {}.'.format(address, latitude, longitude))"
   ]
  },
  {
   "cell_type": "code",
   "execution_count": 31,
   "metadata": {},
   "outputs": [],
   "source": [
    "import folium"
   ]
  },
  {
   "cell_type": "code",
   "execution_count": 32,
   "metadata": {},
   "outputs": [
    {
     "data": {
      "text/html": [
       "<div style=\"width:100%;\"><div style=\"position:relative;width:100%;height:0;padding-bottom:60%;\"><iframe src=\"about:blank\" style=\"position:absolute;width:100%;height:100%;left:0;top:0;border:none !important;\" data-html=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 onload=\"this.contentDocument.open();this.contentDocument.write(atob(this.getAttribute('data-html')));this.contentDocument.close();\" allowfullscreen webkitallowfullscreen mozallowfullscreen></iframe></div></div>"
      ],
      "text/plain": [
       "<folium.folium.Map at 0x16720773108>"
      ]
     },
     "execution_count": 32,
     "metadata": {},
     "output_type": "execute_result"
    }
   ],
   "source": [
    "toronto_map = folium.Map(location=[latitude, longitude], zoom_start=11)\n",
    "\n",
    "# add markers to map\n",
    "for lat, lng, borough, neighborhood in zip(toronto_df['Latitude'], toronto_df['Longitude'], \\\n",
    "                                           toronto_df['Borough'], toronto_df['Neighborhood']):\n",
    "    label = '{}, {}'.format(neighborhood, borough)\n",
    "    label = folium.Popup(label, parse_html=True)\n",
    "    folium.CircleMarker(\n",
    "        [lat, lng],\n",
    "        radius=5,\n",
    "        popup=label,\n",
    "        color='blue',\n",
    "        fill=True,\n",
    "        fill_color='#3186cc',\n",
    "        fill_opacity=0.7).add_to(toronto_map)  \n",
    "    \n",
    "toronto_map"
   ]
  },
  {
   "cell_type": "code",
   "execution_count": null,
   "metadata": {},
   "outputs": [],
   "source": []
  }
 ],
 "metadata": {
  "kernelspec": {
   "display_name": "Python 3",
   "language": "python",
   "name": "python3"
  },
  "language_info": {
   "codemirror_mode": {
    "name": "ipython",
    "version": 3
   },
   "file_extension": ".py",
   "mimetype": "text/x-python",
   "name": "python",
   "nbconvert_exporter": "python",
   "pygments_lexer": "ipython3",
   "version": "3.7.4"
  }
 },
 "nbformat": 4,
 "nbformat_minor": 4
}

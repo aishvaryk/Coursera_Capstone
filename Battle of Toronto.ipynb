{
 "cells": [
  {
   "cell_type": "code",
   "execution_count": 4,
   "metadata": {},
   "outputs": [],
   "source": [
    "import pandas as pd\n",
    "import numpy as np\n",
    "import requests\n",
    "\n",
    "from bs4 import BeautifulSoup"
   ]
  },
  {
   "cell_type": "code",
   "execution_count": 5,
   "metadata": {},
   "outputs": [],
   "source": [
    "source = requests.get('https://en.wikipedia.org/wiki/List_of_postal_codes_of_Canada:_M').text\n",
    "soup = BeautifulSoup(source, 'html.parser')"
   ]
  },
  {
   "cell_type": "code",
   "execution_count": 11,
   "metadata": {},
   "outputs": [
    {
     "name": "stdout",
     "output_type": "stream",
     "text": [
      "['M3A', 'M4A', 'M5A', 'M6A', 'M7A', 'M9A', 'M1B', 'M3B', 'M4B', 'M5B', 'M6B', 'M9B', 'M1C', 'M3C', 'M4C', 'M5C', 'M6C', 'M9C', 'M1E', 'M4E', 'M5E', 'M6E', 'M1G', 'M4G', 'M5G', 'M6G', 'M1H', 'M2H', 'M3H', 'M4H', 'M5H', 'M6H', 'M1J', 'M2J', 'M3J', 'M4J', 'M5J', 'M6J', 'M1K', 'M2K', 'M3K', 'M4K', 'M5K', 'M6K', 'M1L', 'M2L', 'M3L', 'M4L', 'M5L', 'M6L', 'M9L', 'M1M', 'M2M', 'M3M', 'M4M', 'M5M', 'M6M', 'M9M', 'M1N', 'M2N', 'M3N', 'M4N', 'M5N', 'M6N', 'M9N', 'M1P', 'M2P', 'M4P', 'M5P', 'M6P', 'M9P', 'M1R', 'M2R', 'M4R', 'M5R', 'M6R', 'M7R', 'M9R', 'M1S', 'M4S', 'M5S', 'M6S', 'M1T', 'M4T', 'M5T', 'M1V', 'M4V', 'M5V', 'M8V', 'M9V', 'M1W', 'M4W', 'M5W', 'M8W', 'M9W', 'M1X', 'M4X', 'M5X', 'M8X', 'M4Y', 'M7Y', 'M8Y', 'M8Z']\n",
      "['North Yor', 'North Yor', 'Downtown Toront', 'North Yor', 'Downtown Toront', 'Etobicok', 'Scarboroug', 'North Yor', 'East Yor', 'Downtown Toront', 'North Yor', 'Etobicok', 'Scarboroug', 'North Yor', 'East Yor', 'Downtown Toront', 'Yor', 'Etobicok', 'Scarboroug', 'East Toront', 'Downtown Toront', 'Yor', 'Scarboroug', 'East Yor', 'Downtown Toront', 'Downtown Toront', 'Scarboroug', 'North Yor', 'North Yor', 'East Yor', 'Downtown Toront', 'West Toront', 'Scarboroug', 'North Yor', 'North Yor', 'East Yor', 'Downtown Toront', 'West Toront', 'Scarboroug', 'North Yor', 'North Yor', 'East Toront', 'Downtown Toront', 'West Toront', 'Scarboroug', 'North Yor', 'North Yor', 'East Toront', 'Downtown Toront', 'North Yor', 'North Yor', 'Scarboroug', 'North Yor', 'North Yor', 'East Toront', 'North Yor', 'Yor', 'North Yor', 'Scarboroug', 'North Yor', 'North Yor', 'Central Toront', 'Central Toront', 'Yor', 'Yor', 'Scarboroug', 'North Yor', 'Central Toront', 'Central Toront', 'West Toront', 'Etobicok', 'Scarboroug', 'North Yor', 'Central Toront', 'Central Toront', 'West Toront', 'Mississaug', 'Etobicok', 'Scarboroug', 'Central Toront', 'Downtown Toront', 'West Toront', 'Scarboroug', 'Central Toront', 'Downtown Toront', 'Scarboroug', 'Central Toront', 'Downtown Toront', 'Etobicok', 'Etobicok', 'Scarboroug', 'Downtown Toront', 'Downtown Toront', 'Etobicok', 'Etobicok', 'Scarboroug', 'Downtown Toront', 'Downtown Toront', 'Etobicok', 'Downtown Toront', 'East Toront', 'Etobicok', 'Etobicok']\n",
      "['Parkwood', 'Victoria Villag', 'Regent Park , Harbourfron', 'Lawrence Manor , Lawrence Height', \"Queen's Park , Ontario Provincial Governmen\", 'Islington Avenu', 'Malvern , Roug', 'Don Mill', 'Parkview Hill , Woodbine Garden', 'Garden District, Ryerso', 'Glencair', 'West Deane Park , Princess Gardens , Martin Grove , Islington , Cloverdal', 'Rouge Hill , Port Union , Highland Cree', 'Don Mill', 'Woodbine Height', 'St. James Tow', 'Humewood-Cedarval', 'Eringate , Bloordale Gardens , Old Burnhamthorpe , Markland Woo', 'Guildwood , Morningside , West Hil', 'The Beache', 'Berczy Par', 'Caledonia-Fairbank', 'Wobur', 'Leasid', 'Central Bay Stree', 'Christi', 'Cedarbra', 'Hillcrest Villag', 'Bathurst Manor , Wilson Heights , Downsview Nort', 'Thorncliffe Par', 'Richmond , Adelaide , Kin', 'Dufferin , Dovercourt Villag', 'Scarborough Villag', 'Fairview , Henry Farm , Oriol', 'Northwood Park , York Universit', 'East Toront', 'Harbourfront East , Union Station , Toronto Island', 'Little Portugal , Trinit', 'Kennedy Park , Ionview , East Birchmount Par', 'Bayview Villag', 'Downsvie', 'The Danforth West , Riverdal', 'Toronto Dominion Centre , Design Exchang', 'Brockton , Parkdale Village , Exhibition Plac', 'Golden Mile , Clairlea , Oakridg', 'York Mills , Silver Hill', 'Downsvie', 'India Bazaar , The Beaches Wes', 'Commerce Court , Victoria Hote', 'North Park , Maple Leaf Park , Upwood Par', 'Humber Summi', 'Cliffside , Cliffcrest , Scarborough Village Wes', 'Willowdale , Newtonbroo', 'Downsvie', 'Studio Distric', 'Bedford Park , Lawrence Manor Eas', 'Del Ray , Mount Dennis , Keelsdale and Silverthor', 'Humberlea , Emer', 'Birch Cliff , Cliffside Wes', 'Willowdal', 'Downsvie', 'Lawrence Par', 'Roselaw', 'Runnymede , The Junction Nort', 'Westo', 'Dorset Park , Wexford Heights , Scarborough Town Centr', 'York Mills Wes', 'Davisville Nort', 'Forest Hill North & Wes', 'High Park , The Junction Sout', 'Westmoun', 'Wexford , Maryval', 'Willowdal', 'North Toronto Wes', 'The Annex , North Midtown , Yorkvill', 'Parkdale , Roncesvalle', 'Canada Post Gateway Processing Centr', 'Kingsview Village , St. Phillips , Martin Grove Gardens , Richview Garden', 'Agincour', 'Davisvill', 'University of Toronto , Harbor', 'Runnymede , Swanse', \"Clarks Corners , Tam O'Shanter , Sulliva\", 'Moore Park , Summerhill Eas', 'Kensington Market , Chinatown , Grange Par', \"Milliken , Agincourt North , Steeles East , L'Amoreaux Eas\", 'Summerhill West , Rathnelly , South Hill , Forest Hill SE , Deer Par', 'CN Tower , King and Spadina , Railway Lands , Harbourfront West , Bathurst\\n Quay , South Niagara , Island airport', 'New Toronto , Mimico South , Humber Bay Shore', 'South Steeles , Silverstone , Humbergate , Jamestown , Mount Olive , Beaumond Heights , Thistletown , Albion Garden', \"Steeles West , L'Amoreaux Wes\", 'Rosedal', 'Stn A PO Boxe', 'Alderwood , Long Branc', 'Northwes', 'Upper Roug', 'St. James Town , Cabbagetow', 'First Canadian Place , Underground cit', 'The Kingsway , Montgomery Road  , Old Mill Nort', 'Church and Wellesle', 'Business reply mail Processing Centr', \"Old Mill South , King's Mill Park , Sunnylea , Humber Bay , Mimico NE , The Queensway East , Royal York South East , Kingsway Park South Eas\", 'Mimico NW , The Queensway West , South of Bloor , Kingsway Park South West , Royal York South Wes']\n"
     ]
    }
   ],
   "source": [
    "table=soup.find(\"table\",{\"class\":\"wikitable\"})\n",
    "allrows=table.find_all('tr')\n",
    "postalcode=[]\n",
    "borough=[]\n",
    "neighborhood=[]\n",
    "for row in allrows[1:]:\n",
    "    elements=row.find_all('td')\n",
    "    if elements[1].text!=\"Not assigned\\n\": #selection of only assigned\n",
    "        postalcode.append(elements[0].text[:3])\n",
    "        borough.append(elements[1].text[:-2])\n",
    "        neighborhoodelements=(elements[2].text[:-2].split(\"/\"))\n",
    "        stringformat=\",\".join(neighborhoodelements)\n",
    "        neighborhood.append(stringformat)\n",
    "        \n",
    "print(postalcode)\n",
    "print(borough)\n",
    "print(neighborhood)\n"
   ]
  },
  {
   "cell_type": "code",
   "execution_count": 13,
   "metadata": {},
   "outputs": [
    {
     "data": {
      "text/html": [
       "<div>\n",
       "<style scoped>\n",
       "    .dataframe tbody tr th:only-of-type {\n",
       "        vertical-align: middle;\n",
       "    }\n",
       "\n",
       "    .dataframe tbody tr th {\n",
       "        vertical-align: top;\n",
       "    }\n",
       "\n",
       "    .dataframe thead th {\n",
       "        text-align: right;\n",
       "    }\n",
       "</style>\n",
       "<table border=\"1\" class=\"dataframe\">\n",
       "  <thead>\n",
       "    <tr style=\"text-align: right;\">\n",
       "      <th></th>\n",
       "      <th>PostalCode</th>\n",
       "      <th>Borough</th>\n",
       "      <th>Neighborhood</th>\n",
       "    </tr>\n",
       "  </thead>\n",
       "  <tbody>\n",
       "    <tr>\n",
       "      <td>0</td>\n",
       "      <td>M3A</td>\n",
       "      <td>North Yor</td>\n",
       "      <td>Parkwood</td>\n",
       "    </tr>\n",
       "    <tr>\n",
       "      <td>1</td>\n",
       "      <td>M4A</td>\n",
       "      <td>North Yor</td>\n",
       "      <td>Victoria Villag</td>\n",
       "    </tr>\n",
       "    <tr>\n",
       "      <td>2</td>\n",
       "      <td>M5A</td>\n",
       "      <td>Downtown Toront</td>\n",
       "      <td>Regent Park , Harbourfron</td>\n",
       "    </tr>\n",
       "    <tr>\n",
       "      <td>3</td>\n",
       "      <td>M6A</td>\n",
       "      <td>North Yor</td>\n",
       "      <td>Lawrence Manor , Lawrence Height</td>\n",
       "    </tr>\n",
       "    <tr>\n",
       "      <td>4</td>\n",
       "      <td>M7A</td>\n",
       "      <td>Downtown Toront</td>\n",
       "      <td>Queen's Park , Ontario Provincial Governmen</td>\n",
       "    </tr>\n",
       "  </tbody>\n",
       "</table>\n",
       "</div>"
      ],
      "text/plain": [
       "  PostalCode          Borough                                 Neighborhood\n",
       "0        M3A        North Yor                                     Parkwood\n",
       "1        M4A        North Yor                              Victoria Villag\n",
       "2        M5A  Downtown Toront                    Regent Park , Harbourfron\n",
       "3        M6A        North Yor             Lawrence Manor , Lawrence Height\n",
       "4        M7A  Downtown Toront  Queen's Park , Ontario Provincial Governmen"
      ]
     },
     "execution_count": 13,
     "metadata": {},
     "output_type": "execute_result"
    }
   ],
   "source": [
    "toronto_df = pd.DataFrame({\"PostalCode\": postalcode,\n",
    "                           \"Borough\": borough,\n",
    "                           \"Neighborhood\": neighborhood})\n",
    "\n",
    "toronto_df.head()"
   ]
  },
  {
   "cell_type": "code",
   "execution_count": 2,
   "metadata": {},
   "outputs": [
    {
     "data": {
      "text/plain": [
       "'abc'"
      ]
     },
     "execution_count": 2,
     "metadata": {},
     "output_type": "execute_result"
    }
   ],
   "source": [
    "s=\"abcde\"\n",
    "s[:-]"
   ]
  },
  {
   "cell_type": "code",
   "execution_count": null,
   "metadata": {},
   "outputs": [],
   "source": []
  }
 ],
 "metadata": {
  "kernelspec": {
   "display_name": "Python 3",
   "language": "python",
   "name": "python3"
  },
  "language_info": {
   "codemirror_mode": {
    "name": "ipython",
    "version": 3
   },
   "file_extension": ".py",
   "mimetype": "text/x-python",
   "name": "python",
   "nbconvert_exporter": "python",
   "pygments_lexer": "ipython3",
   "version": "3.7.4"
  }
 },
 "nbformat": 4,
 "nbformat_minor": 4
}
